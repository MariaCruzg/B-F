{
  "nbformat": 4,
  "nbformat_minor": 0,
  "metadata": {
    "colab": {
      "name": "RetoB&F.ipynb",
      "provenance": [],
      "collapsed_sections": []
    },
    "kernelspec": {
      "name": "python3",
      "display_name": "Python 3"
    }
  },
  "cells": [
    {
      "cell_type": "markdown",
      "metadata": {
        "id": "ko-LzwS0sxJL",
        "colab_type": "text"
      },
      "source": [
        "Download the **files**\n"
      ]
    },
    {
      "cell_type": "code",
      "metadata": {
        "id": "9NHRGFJQMVqo",
        "colab_type": "code",
        "outputId": "194a987d-0c78-49c1-d70e-0505975c0e21",
        "colab": {
          "resources": {
            "http://localhost:8080/nbextensions/google.colab/files.js": {
              "data": "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",
              "ok": true,
              "headers": [
                [
                  "content-type",
                  "application/javascript"
                ]
              ],
              "status": 200,
              "status_text": ""
            }
          },
          "base_uri": "https://localhost:8080/",
          "height": 106
        }
      },
      "source": [
        "from google.colab import files\n",
        "uploaded = files.upload()"
      ],
      "execution_count": 0,
      "outputs": [
        {
          "output_type": "display_data",
          "data": {
            "text/html": [
              "\n",
              "     <input type=\"file\" id=\"files-723a6d49-b5b6-418a-ba0c-6472305f7947\" name=\"files[]\" multiple disabled />\n",
              "     <output id=\"result-723a6d49-b5b6-418a-ba0c-6472305f7947\">\n",
              "      Upload widget is only available when the cell has been executed in the\n",
              "      current browser session. Please rerun this cell to enable.\n",
              "      </output>\n",
              "      <script src=\"/nbextensions/google.colab/files.js\"></script> "
            ],
            "text/plain": [
              "<IPython.core.display.HTML object>"
            ]
          },
          "metadata": {
            "tags": []
          }
        },
        {
          "output_type": "stream",
          "text": [
            "Saving sales_bi_exam.csv to sales_bi_exam.csv\n",
            "Saving stores_bi_exam.csv to stores_bi_exam.csv\n"
          ],
          "name": "stdout"
        }
      ]
    },
    {
      "cell_type": "markdown",
      "metadata": {
        "id": "yH1-dkHCMzyv",
        "colab_type": "text"
      },
      "source": [
        "## Sales - see the variables \n"
      ]
    },
    {
      "cell_type": "code",
      "metadata": {
        "id": "GMHOZsLlstI0",
        "colab_type": "code",
        "outputId": "18f5fd49-1657-4662-86fc-80bbe15cbf8f",
        "colab": {
          "base_uri": "https://localhost:8080/",
          "height": 198
        }
      },
      "source": [
        "import pandas as pd\n",
        "import io\n",
        "\n",
        "df_sales = pd.read_csv(io.StringIO(uploaded['sales_bi_exam.csv'].decode('utf-8')))\n",
        "df_sales.head()"
      ],
      "execution_count": 0,
      "outputs": [
        {
          "output_type": "execute_result",
          "data": {
            "text/html": [
              "<div>\n",
              "<style scoped>\n",
              "    .dataframe tbody tr th:only-of-type {\n",
              "        vertical-align: middle;\n",
              "    }\n",
              "\n",
              "    .dataframe tbody tr th {\n",
              "        vertical-align: top;\n",
              "    }\n",
              "\n",
              "    .dataframe thead th {\n",
              "        text-align: right;\n",
              "    }\n",
              "</style>\n",
              "<table border=\"1\" class=\"dataframe\">\n",
              "  <thead>\n",
              "    <tr style=\"text-align: right;\">\n",
              "      <th></th>\n",
              "      <th>zip</th>\n",
              "      <th>location</th>\n",
              "      <th>month</th>\n",
              "      <th>products</th>\n",
              "      <th>total</th>\n",
              "      <th>discount</th>\n",
              "    </tr>\n",
              "  </thead>\n",
              "  <tbody>\n",
              "    <tr>\n",
              "      <th>0</th>\n",
              "      <td>01000</td>\n",
              "      <td>Store A</td>\n",
              "      <td>01/01/2018</td>\n",
              "      <td>1</td>\n",
              "      <td>2500</td>\n",
              "      <td>0</td>\n",
              "    </tr>\n",
              "    <tr>\n",
              "      <th>1</th>\n",
              "      <td>01000</td>\n",
              "      <td>Store A</td>\n",
              "      <td>01/01/2018</td>\n",
              "      <td>1</td>\n",
              "      <td>1800</td>\n",
              "      <td>300</td>\n",
              "    </tr>\n",
              "    <tr>\n",
              "      <th>2</th>\n",
              "      <td>01000</td>\n",
              "      <td>Store A</td>\n",
              "      <td>01/01/2018</td>\n",
              "      <td>2</td>\n",
              "      <td>3600</td>\n",
              "      <td>150</td>\n",
              "    </tr>\n",
              "    <tr>\n",
              "      <th>3</th>\n",
              "      <td>01000</td>\n",
              "      <td>Store A</td>\n",
              "      <td>01/01/2018</td>\n",
              "      <td>1</td>\n",
              "      <td>1800</td>\n",
              "      <td>0</td>\n",
              "    </tr>\n",
              "    <tr>\n",
              "      <th>4</th>\n",
              "      <td>01000</td>\n",
              "      <td>Store A</td>\n",
              "      <td>01/03/2018</td>\n",
              "      <td>1</td>\n",
              "      <td>1800</td>\n",
              "      <td>0</td>\n",
              "    </tr>\n",
              "  </tbody>\n",
              "</table>\n",
              "</div>"
            ],
            "text/plain": [
              "     zip location       month  products  total  discount\n",
              "0  01000  Store A  01/01/2018         1   2500         0\n",
              "1  01000  Store A  01/01/2018         1   1800       300\n",
              "2  01000  Store A  01/01/2018         2   3600       150\n",
              "3  01000  Store A  01/01/2018         1   1800         0\n",
              "4  01000  Store A  01/03/2018         1   1800         0"
            ]
          },
          "metadata": {
            "tags": []
          },
          "execution_count": 4
        }
      ]
    },
    {
      "cell_type": "code",
      "metadata": {
        "id": "T8P7-mwUNDYQ",
        "colab_type": "code",
        "outputId": "94e041ee-669c-4552-aec6-96bbd795ca3d",
        "colab": {
          "base_uri": "https://localhost:8080/",
          "height": 288
        }
      },
      "source": [
        "df_sales.describe()"
      ],
      "execution_count": 0,
      "outputs": [
        {
          "output_type": "execute_result",
          "data": {
            "text/html": [
              "<div>\n",
              "<style scoped>\n",
              "    .dataframe tbody tr th:only-of-type {\n",
              "        vertical-align: middle;\n",
              "    }\n",
              "\n",
              "    .dataframe tbody tr th {\n",
              "        vertical-align: top;\n",
              "    }\n",
              "\n",
              "    .dataframe thead th {\n",
              "        text-align: right;\n",
              "    }\n",
              "</style>\n",
              "<table border=\"1\" class=\"dataframe\">\n",
              "  <thead>\n",
              "    <tr style=\"text-align: right;\">\n",
              "      <th></th>\n",
              "      <th>products</th>\n",
              "      <th>total</th>\n",
              "      <th>discount</th>\n",
              "    </tr>\n",
              "  </thead>\n",
              "  <tbody>\n",
              "    <tr>\n",
              "      <th>count</th>\n",
              "      <td>12674.000000</td>\n",
              "      <td>12674.000000</td>\n",
              "      <td>12674.000000</td>\n",
              "    </tr>\n",
              "    <tr>\n",
              "      <th>mean</th>\n",
              "      <td>1.117485</td>\n",
              "      <td>2164.241755</td>\n",
              "      <td>84.397191</td>\n",
              "    </tr>\n",
              "    <tr>\n",
              "      <th>std</th>\n",
              "      <td>0.378969</td>\n",
              "      <td>968.280955</td>\n",
              "      <td>97.649341</td>\n",
              "    </tr>\n",
              "    <tr>\n",
              "      <th>min</th>\n",
              "      <td>1.000000</td>\n",
              "      <td>700.000000</td>\n",
              "      <td>0.000000</td>\n",
              "    </tr>\n",
              "    <tr>\n",
              "      <th>25%</th>\n",
              "      <td>1.000000</td>\n",
              "      <td>1800.000000</td>\n",
              "      <td>0.000000</td>\n",
              "    </tr>\n",
              "    <tr>\n",
              "      <th>50%</th>\n",
              "      <td>1.000000</td>\n",
              "      <td>1800.000000</td>\n",
              "      <td>0.000000</td>\n",
              "    </tr>\n",
              "    <tr>\n",
              "      <th>75%</th>\n",
              "      <td>1.000000</td>\n",
              "      <td>2300.000000</td>\n",
              "      <td>150.000000</td>\n",
              "    </tr>\n",
              "    <tr>\n",
              "      <th>max</th>\n",
              "      <td>3.000000</td>\n",
              "      <td>10000.000000</td>\n",
              "      <td>300.000000</td>\n",
              "    </tr>\n",
              "  </tbody>\n",
              "</table>\n",
              "</div>"
            ],
            "text/plain": [
              "           products         total      discount\n",
              "count  12674.000000  12674.000000  12674.000000\n",
              "mean       1.117485   2164.241755     84.397191\n",
              "std        0.378969    968.280955     97.649341\n",
              "min        1.000000    700.000000      0.000000\n",
              "25%        1.000000   1800.000000      0.000000\n",
              "50%        1.000000   1800.000000      0.000000\n",
              "75%        1.000000   2300.000000    150.000000\n",
              "max        3.000000  10000.000000    300.000000"
            ]
          },
          "metadata": {
            "tags": []
          },
          "execution_count": 5
        }
      ]
    },
    {
      "cell_type": "markdown",
      "metadata": {
        "id": "U_j-TuBKuEsC",
        "colab_type": "text"
      },
      "source": [
        "🧹**  the files **\n",
        "\n"
      ]
    },
    {
      "cell_type": "code",
      "metadata": {
        "id": "cSxM3hpCuMSn",
        "colab_type": "code",
        "outputId": "e24fafef-1df7-4c94-ce04-baaa0f4f1109",
        "colab": {
          "base_uri": "https://localhost:8080/",
          "height": 108
        }
      },
      "source": [
        "df_stores = pd.read_csv(io.StringIO(uploaded['stores_bi_exam.csv'].decode('utf-8')))\n",
        "df_stores"
      ],
      "execution_count": 0,
      "outputs": [
        {
          "output_type": "execute_result",
          "data": {
            "text/html": [
              "<div>\n",
              "<style scoped>\n",
              "    .dataframe tbody tr th:only-of-type {\n",
              "        vertical-align: middle;\n",
              "    }\n",
              "\n",
              "    .dataframe tbody tr th {\n",
              "        vertical-align: top;\n",
              "    }\n",
              "\n",
              "    .dataframe thead th {\n",
              "        text-align: right;\n",
              "    }\n",
              "</style>\n",
              "<table border=\"1\" class=\"dataframe\">\n",
              "  <thead>\n",
              "    <tr style=\"text-align: right;\">\n",
              "      <th></th>\n",
              "      <th>location</th>\n",
              "      <th>latitud</th>\n",
              "      <th>longitud</th>\n",
              "    </tr>\n",
              "  </thead>\n",
              "  <tbody>\n",
              "    <tr>\n",
              "      <th>0</th>\n",
              "      <td>Store B</td>\n",
              "      <td>19.419919</td>\n",
              "      <td>-99.168557</td>\n",
              "    </tr>\n",
              "    <tr>\n",
              "      <th>1</th>\n",
              "      <td>Store A</td>\n",
              "      <td>19.430864</td>\n",
              "      <td>-99.192393</td>\n",
              "    </tr>\n",
              "  </tbody>\n",
              "</table>\n",
              "</div>"
            ],
            "text/plain": [
              "  location    latitud   longitud\n",
              "0  Store B  19.419919 -99.168557\n",
              "1  Store A  19.430864 -99.192393"
            ]
          },
          "metadata": {
            "tags": []
          },
          "execution_count": 6
        }
      ]
    },
    {
      "cell_type": "markdown",
      "metadata": {
        "id": "SDWeKVXZvGQE",
        "colab_type": "text"
      },
      "source": [
        "Libraries "
      ]
    },
    {
      "cell_type": "code",
      "metadata": {
        "id": "uxYOxBwOvKlY",
        "colab_type": "code",
        "outputId": "62cdfc17-fd45-40f1-d02e-2b4fd7aa33f4",
        "colab": {
          "base_uri": "https://localhost:8080/",
          "height": 198
        }
      },
      "source": [
        "df_distribution=df_sales.merge(df_stores, left_on='location', right_on='location')\n",
        "df_distribution.head()"
      ],
      "execution_count": 0,
      "outputs": [
        {
          "output_type": "execute_result",
          "data": {
            "text/html": [
              "<div>\n",
              "<style scoped>\n",
              "    .dataframe tbody tr th:only-of-type {\n",
              "        vertical-align: middle;\n",
              "    }\n",
              "\n",
              "    .dataframe tbody tr th {\n",
              "        vertical-align: top;\n",
              "    }\n",
              "\n",
              "    .dataframe thead th {\n",
              "        text-align: right;\n",
              "    }\n",
              "</style>\n",
              "<table border=\"1\" class=\"dataframe\">\n",
              "  <thead>\n",
              "    <tr style=\"text-align: right;\">\n",
              "      <th></th>\n",
              "      <th>zip</th>\n",
              "      <th>location</th>\n",
              "      <th>month</th>\n",
              "      <th>products</th>\n",
              "      <th>total</th>\n",
              "      <th>discount</th>\n",
              "      <th>latitud</th>\n",
              "      <th>longitud</th>\n",
              "    </tr>\n",
              "  </thead>\n",
              "  <tbody>\n",
              "    <tr>\n",
              "      <th>0</th>\n",
              "      <td>01000</td>\n",
              "      <td>Store A</td>\n",
              "      <td>01/01/2018</td>\n",
              "      <td>1</td>\n",
              "      <td>2500</td>\n",
              "      <td>0</td>\n",
              "      <td>19.430864</td>\n",
              "      <td>-99.192393</td>\n",
              "    </tr>\n",
              "    <tr>\n",
              "      <th>1</th>\n",
              "      <td>01000</td>\n",
              "      <td>Store A</td>\n",
              "      <td>01/01/2018</td>\n",
              "      <td>1</td>\n",
              "      <td>1800</td>\n",
              "      <td>300</td>\n",
              "      <td>19.430864</td>\n",
              "      <td>-99.192393</td>\n",
              "    </tr>\n",
              "    <tr>\n",
              "      <th>2</th>\n",
              "      <td>01000</td>\n",
              "      <td>Store A</td>\n",
              "      <td>01/01/2018</td>\n",
              "      <td>2</td>\n",
              "      <td>3600</td>\n",
              "      <td>150</td>\n",
              "      <td>19.430864</td>\n",
              "      <td>-99.192393</td>\n",
              "    </tr>\n",
              "    <tr>\n",
              "      <th>3</th>\n",
              "      <td>01000</td>\n",
              "      <td>Store A</td>\n",
              "      <td>01/01/2018</td>\n",
              "      <td>1</td>\n",
              "      <td>1800</td>\n",
              "      <td>0</td>\n",
              "      <td>19.430864</td>\n",
              "      <td>-99.192393</td>\n",
              "    </tr>\n",
              "    <tr>\n",
              "      <th>4</th>\n",
              "      <td>01000</td>\n",
              "      <td>Store A</td>\n",
              "      <td>01/03/2018</td>\n",
              "      <td>1</td>\n",
              "      <td>1800</td>\n",
              "      <td>0</td>\n",
              "      <td>19.430864</td>\n",
              "      <td>-99.192393</td>\n",
              "    </tr>\n",
              "  </tbody>\n",
              "</table>\n",
              "</div>"
            ],
            "text/plain": [
              "     zip location       month  products  total  discount    latitud   longitud\n",
              "0  01000  Store A  01/01/2018         1   2500         0  19.430864 -99.192393\n",
              "1  01000  Store A  01/01/2018         1   1800       300  19.430864 -99.192393\n",
              "2  01000  Store A  01/01/2018         2   3600       150  19.430864 -99.192393\n",
              "3  01000  Store A  01/01/2018         1   1800         0  19.430864 -99.192393\n",
              "4  01000  Store A  01/03/2018         1   1800         0  19.430864 -99.192393"
            ]
          },
          "metadata": {
            "tags": []
          },
          "execution_count": 7
        }
      ]
    },
    {
      "cell_type": "markdown",
      "metadata": {
        "id": "HPpNV7yrXLJ3",
        "colab_type": "text"
      },
      "source": [
        "Create a net result variable based on total - discount \n"
      ]
    },
    {
      "cell_type": "code",
      "metadata": {
        "id": "0Hm8vq8rVCWJ",
        "colab_type": "code",
        "colab": {}
      },
      "source": [
        "df_distribution['net']=df_distribution['total']- df_distribution['discount']"
      ],
      "execution_count": 0,
      "outputs": []
    },
    {
      "cell_type": "code",
      "metadata": {
        "id": "lOwjlIACX8Cj",
        "colab_type": "code",
        "outputId": "254450e2-442d-4fa0-8a2f-43a4b12c4fc9",
        "colab": {
          "base_uri": "https://localhost:8080/",
          "height": 198
        }
      },
      "source": [
        "df_distribution.head()"
      ],
      "execution_count": 0,
      "outputs": [
        {
          "output_type": "execute_result",
          "data": {
            "text/html": [
              "<div>\n",
              "<style scoped>\n",
              "    .dataframe tbody tr th:only-of-type {\n",
              "        vertical-align: middle;\n",
              "    }\n",
              "\n",
              "    .dataframe tbody tr th {\n",
              "        vertical-align: top;\n",
              "    }\n",
              "\n",
              "    .dataframe thead th {\n",
              "        text-align: right;\n",
              "    }\n",
              "</style>\n",
              "<table border=\"1\" class=\"dataframe\">\n",
              "  <thead>\n",
              "    <tr style=\"text-align: right;\">\n",
              "      <th></th>\n",
              "      <th>zip</th>\n",
              "      <th>location</th>\n",
              "      <th>month</th>\n",
              "      <th>products</th>\n",
              "      <th>total</th>\n",
              "      <th>discount</th>\n",
              "      <th>latitud</th>\n",
              "      <th>longitud</th>\n",
              "      <th>net</th>\n",
              "    </tr>\n",
              "  </thead>\n",
              "  <tbody>\n",
              "    <tr>\n",
              "      <th>0</th>\n",
              "      <td>01000</td>\n",
              "      <td>Store A</td>\n",
              "      <td>01/01/2018</td>\n",
              "      <td>1</td>\n",
              "      <td>2500</td>\n",
              "      <td>0</td>\n",
              "      <td>19.430864</td>\n",
              "      <td>-99.192393</td>\n",
              "      <td>2500</td>\n",
              "    </tr>\n",
              "    <tr>\n",
              "      <th>1</th>\n",
              "      <td>01000</td>\n",
              "      <td>Store A</td>\n",
              "      <td>01/01/2018</td>\n",
              "      <td>1</td>\n",
              "      <td>1800</td>\n",
              "      <td>300</td>\n",
              "      <td>19.430864</td>\n",
              "      <td>-99.192393</td>\n",
              "      <td>1500</td>\n",
              "    </tr>\n",
              "    <tr>\n",
              "      <th>2</th>\n",
              "      <td>01000</td>\n",
              "      <td>Store A</td>\n",
              "      <td>01/01/2018</td>\n",
              "      <td>2</td>\n",
              "      <td>3600</td>\n",
              "      <td>150</td>\n",
              "      <td>19.430864</td>\n",
              "      <td>-99.192393</td>\n",
              "      <td>3450</td>\n",
              "    </tr>\n",
              "    <tr>\n",
              "      <th>3</th>\n",
              "      <td>01000</td>\n",
              "      <td>Store A</td>\n",
              "      <td>01/01/2018</td>\n",
              "      <td>1</td>\n",
              "      <td>1800</td>\n",
              "      <td>0</td>\n",
              "      <td>19.430864</td>\n",
              "      <td>-99.192393</td>\n",
              "      <td>1800</td>\n",
              "    </tr>\n",
              "    <tr>\n",
              "      <th>4</th>\n",
              "      <td>01000</td>\n",
              "      <td>Store A</td>\n",
              "      <td>01/03/2018</td>\n",
              "      <td>1</td>\n",
              "      <td>1800</td>\n",
              "      <td>0</td>\n",
              "      <td>19.430864</td>\n",
              "      <td>-99.192393</td>\n",
              "      <td>1800</td>\n",
              "    </tr>\n",
              "  </tbody>\n",
              "</table>\n",
              "</div>"
            ],
            "text/plain": [
              "     zip location       month  products  ...  discount    latitud   longitud   net\n",
              "0  01000  Store A  01/01/2018         1  ...         0  19.430864 -99.192393  2500\n",
              "1  01000  Store A  01/01/2018         1  ...       300  19.430864 -99.192393  1500\n",
              "2  01000  Store A  01/01/2018         2  ...       150  19.430864 -99.192393  3450\n",
              "3  01000  Store A  01/01/2018         1  ...         0  19.430864 -99.192393  1800\n",
              "4  01000  Store A  01/03/2018         1  ...         0  19.430864 -99.192393  1800\n",
              "\n",
              "[5 rows x 9 columns]"
            ]
          },
          "metadata": {
            "tags": []
          },
          "execution_count": 9
        }
      ]
    },
    {
      "cell_type": "markdown",
      "metadata": {
        "id": "glC7crT2Tdlb",
        "colab_type": "text"
      },
      "source": [
        "General descrition of the stores a/B"
      ]
    },
    {
      "cell_type": "code",
      "metadata": {
        "id": "KQ-pN-b6Qtb6",
        "colab_type": "code",
        "outputId": "e7386ddd-afd4-4df5-9284-ac70d577e91b",
        "colab": {
          "base_uri": "https://localhost:8080/",
          "height": 86
        }
      },
      "source": [
        "df_distribution.groupby('location')['products'].sum()"
      ],
      "execution_count": 0,
      "outputs": [
        {
          "output_type": "execute_result",
          "data": {
            "text/plain": [
              "location\n",
              "Store A    12170\n",
              "Store B     1993\n",
              "Name: products, dtype: int64"
            ]
          },
          "metadata": {
            "tags": []
          },
          "execution_count": 10
        }
      ]
    },
    {
      "cell_type": "code",
      "metadata": {
        "id": "Og7W4GKfTkss",
        "colab_type": "code",
        "outputId": "593c67b2-6f93-4133-d359-a41330feb9f4",
        "colab": {
          "base_uri": "https://localhost:8080/",
          "height": 86
        }
      },
      "source": [
        "df_distribution.groupby('location')['discount'].sum()"
      ],
      "execution_count": 0,
      "outputs": [
        {
          "output_type": "execute_result",
          "data": {
            "text/plain": [
              "location\n",
              "Store A    919350\n",
              "Store B    150300\n",
              "Name: discount, dtype: int64"
            ]
          },
          "metadata": {
            "tags": []
          },
          "execution_count": 10
        }
      ]
    },
    {
      "cell_type": "code",
      "metadata": {
        "id": "ko4XJiUrT3jy",
        "colab_type": "code",
        "outputId": "a0f28829-c080-4f8d-eac1-99131f9d1137",
        "colab": {
          "base_uri": "https://localhost:8080/",
          "height": 86
        }
      },
      "source": [
        "df_distribution.groupby('location')['total'].sum()"
      ],
      "execution_count": 71,
      "outputs": [
        {
          "output_type": "execute_result",
          "data": {
            "text/plain": [
              "location\n",
              "Store A    23576150\n",
              "Store B     3853450\n",
              "Name: total, dtype: int64"
            ]
          },
          "metadata": {
            "tags": []
          },
          "execution_count": 71
        }
      ]
    },
    {
      "cell_type": "code",
      "metadata": {
        "id": "45UoPfkhU6nR",
        "colab_type": "code",
        "outputId": "acf7652f-4c50-4f8f-fbd5-fc3308b80a6d",
        "colab": {
          "base_uri": "https://localhost:8080/",
          "height": 86
        }
      },
      "source": [
        "df_distribution.groupby('location')['net'].sum()"
      ],
      "execution_count": 0,
      "outputs": [
        {
          "output_type": "execute_result",
          "data": {
            "text/plain": [
              "location\n",
              "Store A    22656800\n",
              "Store B     3703150\n",
              "Name: net, dtype: int64"
            ]
          },
          "metadata": {
            "tags": []
          },
          "execution_count": 12
        }
      ]
    },
    {
      "cell_type": "code",
      "metadata": {
        "id": "xzdsOzgjZrwI",
        "colab_type": "code",
        "colab": {
          "base_uri": "https://localhost:8080/",
          "height": 86
        },
        "outputId": "295ea9af-c45e-43d6-c663-1661bc23ca90"
      },
      "source": [
        "df_distribution.groupby('location')['zip'].nunique()"
      ],
      "execution_count": 73,
      "outputs": [
        {
          "output_type": "execute_result",
          "data": {
            "text/plain": [
              "location\n",
              "Store A    945\n",
              "Store B    162\n",
              "Name: zip, dtype: int64"
            ]
          },
          "metadata": {
            "tags": []
          },
          "execution_count": 73
        }
      ]
    },
    {
      "cell_type": "code",
      "metadata": {
        "id": "ZmWaEWm4a_Tz",
        "colab_type": "code",
        "colab": {
          "base_uri": "https://localhost:8080/",
          "height": 35
        },
        "outputId": "78615fbb-2ec1-4159-8d23-de4f6c3fa357"
      },
      "source": [
        "df_distribution['zip'].nunique()"
      ],
      "execution_count": 74,
      "outputs": [
        {
          "output_type": "execute_result",
          "data": {
            "text/plain": [
              "1002"
            ]
          },
          "metadata": {
            "tags": []
          },
          "execution_count": 74
        }
      ]
    },
    {
      "cell_type": "code",
      "metadata": {
        "id": "8AT7TA-bdYzb",
        "colab_type": "code",
        "colab": {}
      },
      "source": [
        "dups_zip = df_distribution.pivot_table(index=['zip','location'], aggfunc='size')"
      ],
      "execution_count": 0,
      "outputs": []
    },
    {
      "cell_type": "code",
      "metadata": {
        "id": "qWbNhPImdfy3",
        "colab_type": "code",
        "colab": {
          "base_uri": "https://localhost:8080/",
          "height": 242
        },
        "outputId": "d168ad04-7018-4bdc-90d4-d444a4a2a5dc"
      },
      "source": [
        "dups_zip"
      ],
      "execution_count": 79,
      "outputs": [
        {
          "output_type": "execute_result",
          "data": {
            "text/plain": [
              "zip    location\n",
              "01000  Store A        7\n",
              "01010  Store A        3\n",
              "       Store B        4\n",
              "01020  Store A       13\n",
              "       Store B        5\n",
              "                   ... \n",
              "97305  Store A        2\n",
              "98615  Store A        3\n",
              "99020  Store A        2\n",
              "x      Store A     2754\n",
              "       Store B      613\n",
              "Length: 1107, dtype: int64"
            ]
          },
          "metadata": {
            "tags": []
          },
          "execution_count": 79
        }
      ]
    },
    {
      "cell_type": "code",
      "metadata": {
        "id": "80xxkVNMeFyM",
        "colab_type": "code",
        "colab": {
          "base_uri": "https://localhost:8080/",
          "height": 72
        },
        "outputId": "8fca2094-096f-4aa7-c37c-c85ffbc64253"
      },
      "source": [
        "dups_zip.to_csv('df_zip.csv')\n",
        "files.download('df_zip.csv')"
      ],
      "execution_count": 80,
      "outputs": [
        {
          "output_type": "stream",
          "text": [
            "/usr/local/lib/python3.6/dist-packages/ipykernel_launcher.py:1: FutureWarning: The signature of `Series.to_csv` was aligned to that of `DataFrame.to_csv`, and argument 'header' will change its default value from False to True: please pass an explicit value to suppress this warning.\n",
            "  \"\"\"Entry point for launching an IPython kernel.\n"
          ],
          "name": "stderr"
        }
      ]
    },
    {
      "cell_type": "markdown",
      "metadata": {
        "id": "Jk1xtwbXa-LZ",
        "colab_type": "text"
      },
      "source": [
        "User ZIP CODE ANALYSIS \n"
      ]
    },
    {
      "cell_type": "code",
      "metadata": {
        "id": "zpXbUmX4bHeU",
        "colab_type": "code",
        "outputId": "ed9880fe-3fdf-432e-e604-605cf4424c62",
        "colab": {
          "base_uri": "https://localhost:8080/",
          "height": 279
        }
      },
      "source": [
        "!pip install pgeocode"
      ],
      "execution_count": 0,
      "outputs": [
        {
          "output_type": "stream",
          "text": [
            "Collecting pgeocode\n",
            "  Downloading https://files.pythonhosted.org/packages/f4/1e/d35805c59f167751fccb3fc7093fb2e45ee1e9e4a057e5d74da926ef9518/pgeocode-0.2.0-py2.py3-none-any.whl\n",
            "Requirement already satisfied: numpy in /usr/local/lib/python3.6/dist-packages (from pgeocode) (1.17.5)\n",
            "Requirement already satisfied: requests in /usr/local/lib/python3.6/dist-packages (from pgeocode) (2.21.0)\n",
            "Requirement already satisfied: pandas in /usr/local/lib/python3.6/dist-packages (from pgeocode) (0.25.3)\n",
            "Requirement already satisfied: certifi>=2017.4.17 in /usr/local/lib/python3.6/dist-packages (from requests->pgeocode) (2019.11.28)\n",
            "Requirement already satisfied: urllib3<1.25,>=1.21.1 in /usr/local/lib/python3.6/dist-packages (from requests->pgeocode) (1.24.3)\n",
            "Requirement already satisfied: chardet<3.1.0,>=3.0.2 in /usr/local/lib/python3.6/dist-packages (from requests->pgeocode) (3.0.4)\n",
            "Requirement already satisfied: idna<2.9,>=2.5 in /usr/local/lib/python3.6/dist-packages (from requests->pgeocode) (2.8)\n",
            "Requirement already satisfied: pytz>=2017.2 in /usr/local/lib/python3.6/dist-packages (from pandas->pgeocode) (2018.9)\n",
            "Requirement already satisfied: python-dateutil>=2.6.1 in /usr/local/lib/python3.6/dist-packages (from pandas->pgeocode) (2.6.1)\n",
            "Requirement already satisfied: six>=1.5 in /usr/local/lib/python3.6/dist-packages (from python-dateutil>=2.6.1->pandas->pgeocode) (1.12.0)\n",
            "Installing collected packages: pgeocode\n",
            "Successfully installed pgeocode-0.2.0\n"
          ],
          "name": "stdout"
        }
      ]
    },
    {
      "cell_type": "code",
      "metadata": {
        "id": "vkuTpGFmbFiB",
        "colab_type": "code",
        "colab": {}
      },
      "source": [
        " import pgeocode"
      ],
      "execution_count": 0,
      "outputs": []
    },
    {
      "cell_type": "markdown",
      "metadata": {
        "id": "O6X9w9YQc2ep",
        "colab_type": "text"
      },
      "source": [
        "Testing user zip_code"
      ]
    },
    {
      "cell_type": "code",
      "metadata": {
        "id": "UgHbFvDmbS-n",
        "colab_type": "code",
        "colab": {}
      },
      "source": [
        "nomi = pgeocode.Nominatim('mx')"
      ],
      "execution_count": 0,
      "outputs": []
    },
    {
      "cell_type": "code",
      "metadata": {
        "id": "puQC3Pt2b4JO",
        "colab_type": "code",
        "colab": {}
      },
      "source": [
        "result=nomi.query_postal_code('01000')"
      ],
      "execution_count": 0,
      "outputs": []
    },
    {
      "cell_type": "code",
      "metadata": {
        "id": "RVMSiSN4nKxg",
        "colab_type": "code",
        "outputId": "4893946e-0b81-4663-8547-8de41bbf5589",
        "colab": {
          "base_uri": "https://localhost:8080/",
          "height": 35
        }
      },
      "source": [
        "result.latitude\n",
        "result.longitude"
      ],
      "execution_count": 0,
      "outputs": [
        {
          "output_type": "execute_result",
          "data": {
            "text/plain": [
              "-99.2033"
            ]
          },
          "metadata": {
            "tags": []
          },
          "execution_count": 18
        }
      ]
    },
    {
      "cell_type": "code",
      "metadata": {
        "id": "ST-oz1m2dB1H",
        "colab_type": "code",
        "outputId": "ed212e01-95d4-4c0c-dbcd-66f3f5074038",
        "colab": {
          "base_uri": "https://localhost:8080/",
          "height": 225
        }
      },
      "source": [
        "df_distribution['zip']"
      ],
      "execution_count": 0,
      "outputs": [
        {
          "output_type": "execute_result",
          "data": {
            "text/plain": [
              "0        01000\n",
              "1        01000\n",
              "2        01000\n",
              "3        01000\n",
              "4        01000\n",
              "         ...  \n",
              "12669        x\n",
              "12670        x\n",
              "12671        x\n",
              "12672        x\n",
              "12673        x\n",
              "Name: zip, Length: 12674, dtype: object"
            ]
          },
          "metadata": {
            "tags": []
          },
          "execution_count": 19
        }
      ]
    },
    {
      "cell_type": "code",
      "metadata": {
        "id": "kXWLtqVfjHLP",
        "colab_type": "code",
        "outputId": "2c96cfb0-c4b0-4246-c69c-5f54e2be3540",
        "colab": {
          "base_uri": "https://localhost:8080/",
          "height": 198
        }
      },
      "source": [
        "clean_zip = df_distribution.loc[df_distribution.zip != 'x', ['zip','location','month','products','total','discount','latitud','longitud','net']]\n",
        "clean_zip.head()"
      ],
      "execution_count": 0,
      "outputs": [
        {
          "output_type": "execute_result",
          "data": {
            "text/html": [
              "<div>\n",
              "<style scoped>\n",
              "    .dataframe tbody tr th:only-of-type {\n",
              "        vertical-align: middle;\n",
              "    }\n",
              "\n",
              "    .dataframe tbody tr th {\n",
              "        vertical-align: top;\n",
              "    }\n",
              "\n",
              "    .dataframe thead th {\n",
              "        text-align: right;\n",
              "    }\n",
              "</style>\n",
              "<table border=\"1\" class=\"dataframe\">\n",
              "  <thead>\n",
              "    <tr style=\"text-align: right;\">\n",
              "      <th></th>\n",
              "      <th>zip</th>\n",
              "      <th>location</th>\n",
              "      <th>month</th>\n",
              "      <th>products</th>\n",
              "      <th>total</th>\n",
              "      <th>discount</th>\n",
              "      <th>latitud</th>\n",
              "      <th>longitud</th>\n",
              "      <th>net</th>\n",
              "    </tr>\n",
              "  </thead>\n",
              "  <tbody>\n",
              "    <tr>\n",
              "      <th>0</th>\n",
              "      <td>01000</td>\n",
              "      <td>Store A</td>\n",
              "      <td>01/01/2018</td>\n",
              "      <td>1</td>\n",
              "      <td>2500</td>\n",
              "      <td>0</td>\n",
              "      <td>19.430864</td>\n",
              "      <td>-99.192393</td>\n",
              "      <td>2500</td>\n",
              "    </tr>\n",
              "    <tr>\n",
              "      <th>1</th>\n",
              "      <td>01000</td>\n",
              "      <td>Store A</td>\n",
              "      <td>01/01/2018</td>\n",
              "      <td>1</td>\n",
              "      <td>1800</td>\n",
              "      <td>300</td>\n",
              "      <td>19.430864</td>\n",
              "      <td>-99.192393</td>\n",
              "      <td>1500</td>\n",
              "    </tr>\n",
              "    <tr>\n",
              "      <th>2</th>\n",
              "      <td>01000</td>\n",
              "      <td>Store A</td>\n",
              "      <td>01/01/2018</td>\n",
              "      <td>2</td>\n",
              "      <td>3600</td>\n",
              "      <td>150</td>\n",
              "      <td>19.430864</td>\n",
              "      <td>-99.192393</td>\n",
              "      <td>3450</td>\n",
              "    </tr>\n",
              "    <tr>\n",
              "      <th>3</th>\n",
              "      <td>01000</td>\n",
              "      <td>Store A</td>\n",
              "      <td>01/01/2018</td>\n",
              "      <td>1</td>\n",
              "      <td>1800</td>\n",
              "      <td>0</td>\n",
              "      <td>19.430864</td>\n",
              "      <td>-99.192393</td>\n",
              "      <td>1800</td>\n",
              "    </tr>\n",
              "    <tr>\n",
              "      <th>4</th>\n",
              "      <td>01000</td>\n",
              "      <td>Store A</td>\n",
              "      <td>01/03/2018</td>\n",
              "      <td>1</td>\n",
              "      <td>1800</td>\n",
              "      <td>0</td>\n",
              "      <td>19.430864</td>\n",
              "      <td>-99.192393</td>\n",
              "      <td>1800</td>\n",
              "    </tr>\n",
              "  </tbody>\n",
              "</table>\n",
              "</div>"
            ],
            "text/plain": [
              "     zip location       month  products  ...  discount    latitud   longitud   net\n",
              "0  01000  Store A  01/01/2018         1  ...         0  19.430864 -99.192393  2500\n",
              "1  01000  Store A  01/01/2018         1  ...       300  19.430864 -99.192393  1500\n",
              "2  01000  Store A  01/01/2018         2  ...       150  19.430864 -99.192393  3450\n",
              "3  01000  Store A  01/01/2018         1  ...         0  19.430864 -99.192393  1800\n",
              "4  01000  Store A  01/03/2018         1  ...         0  19.430864 -99.192393  1800\n",
              "\n",
              "[5 rows x 9 columns]"
            ]
          },
          "metadata": {
            "tags": []
          },
          "execution_count": 30
        }
      ]
    },
    {
      "cell_type": "code",
      "metadata": {
        "id": "js17yRywpbV2",
        "colab_type": "code",
        "colab": {}
      },
      "source": [
        "vector=pd.DataFrame(columns=['user_lat','user_long','zip'])"
      ],
      "execution_count": 0,
      "outputs": []
    },
    {
      "cell_type": "code",
      "metadata": {
        "id": "cTh1kSv0ldd8",
        "colab_type": "code",
        "colab": {}
      },
      "source": [
        "i=0\n",
        "for x in clean_zip['zip']:\n",
        "   result=nomi.query_postal_code(x)\n",
        "   user_lat=result.latitude \n",
        "   user_long=result.longitude\n",
        "   vector['user_lat'].loc[i]=user_lat\n",
        "   vector['user_long'].loc[i]=user_long\n",
        "   vector['zip'].loc[i]=x\n",
        "   i=i+1\n",
        "\n"
      ],
      "execution_count": 0,
      "outputs": []
    },
    {
      "cell_type": "code",
      "metadata": {
        "id": "5nqQVH4S8RfJ",
        "colab_type": "code",
        "colab": {}
      },
      "source": [
        "df=pd.DataFrame()"
      ],
      "execution_count": 0,
      "outputs": []
    },
    {
      "cell_type": "code",
      "metadata": {
        "id": "31BlpSQws3hY",
        "colab_type": "code",
        "colab": {}
      },
      "source": [
        "df['lat_use']=vector.user_lat\n",
        "df['long_use']=vector.user_long\n",
        "df['zip']=vector.zip"
      ],
      "execution_count": 0,
      "outputs": []
    },
    {
      "cell_type": "code",
      "metadata": {
        "id": "6tyS-XAz-oEX",
        "colab_type": "code",
        "colab": {}
      },
      "source": [
        "user_zip=clean_zip.merge(df, left_on='zip', right_on='zip')"
      ],
      "execution_count": 0,
      "outputs": []
    },
    {
      "cell_type": "code",
      "metadata": {
        "id": "7umCsWiR-4S6",
        "colab_type": "code",
        "outputId": "21718391-1b85-41b2-eede-93f5ddb1e797",
        "colab": {
          "base_uri": "https://localhost:8080/",
          "height": 198
        }
      },
      "source": [
        "user_zip.head()"
      ],
      "execution_count": 0,
      "outputs": [
        {
          "output_type": "execute_result",
          "data": {
            "text/html": [
              "<div>\n",
              "<style scoped>\n",
              "    .dataframe tbody tr th:only-of-type {\n",
              "        vertical-align: middle;\n",
              "    }\n",
              "\n",
              "    .dataframe tbody tr th {\n",
              "        vertical-align: top;\n",
              "    }\n",
              "\n",
              "    .dataframe thead th {\n",
              "        text-align: right;\n",
              "    }\n",
              "</style>\n",
              "<table border=\"1\" class=\"dataframe\">\n",
              "  <thead>\n",
              "    <tr style=\"text-align: right;\">\n",
              "      <th></th>\n",
              "      <th>zip</th>\n",
              "      <th>location</th>\n",
              "      <th>month</th>\n",
              "      <th>products</th>\n",
              "      <th>total</th>\n",
              "      <th>discount</th>\n",
              "      <th>latitud</th>\n",
              "      <th>longitud</th>\n",
              "      <th>net</th>\n",
              "      <th>lat_use</th>\n",
              "      <th>long_use</th>\n",
              "    </tr>\n",
              "  </thead>\n",
              "  <tbody>\n",
              "    <tr>\n",
              "      <th>0</th>\n",
              "      <td>01000</td>\n",
              "      <td>Store A</td>\n",
              "      <td>01/01/2018</td>\n",
              "      <td>1</td>\n",
              "      <td>2500</td>\n",
              "      <td>0</td>\n",
              "      <td>19.430864</td>\n",
              "      <td>-99.192393</td>\n",
              "      <td>2500</td>\n",
              "      <td>19.3587</td>\n",
              "      <td>-99.2033</td>\n",
              "    </tr>\n",
              "    <tr>\n",
              "      <th>1</th>\n",
              "      <td>01000</td>\n",
              "      <td>Store A</td>\n",
              "      <td>01/01/2018</td>\n",
              "      <td>1</td>\n",
              "      <td>2500</td>\n",
              "      <td>0</td>\n",
              "      <td>19.430864</td>\n",
              "      <td>-99.192393</td>\n",
              "      <td>2500</td>\n",
              "      <td>19.3587</td>\n",
              "      <td>-99.2033</td>\n",
              "    </tr>\n",
              "    <tr>\n",
              "      <th>2</th>\n",
              "      <td>01000</td>\n",
              "      <td>Store A</td>\n",
              "      <td>01/01/2018</td>\n",
              "      <td>1</td>\n",
              "      <td>2500</td>\n",
              "      <td>0</td>\n",
              "      <td>19.430864</td>\n",
              "      <td>-99.192393</td>\n",
              "      <td>2500</td>\n",
              "      <td>19.3587</td>\n",
              "      <td>-99.2033</td>\n",
              "    </tr>\n",
              "    <tr>\n",
              "      <th>3</th>\n",
              "      <td>01000</td>\n",
              "      <td>Store A</td>\n",
              "      <td>01/01/2018</td>\n",
              "      <td>1</td>\n",
              "      <td>2500</td>\n",
              "      <td>0</td>\n",
              "      <td>19.430864</td>\n",
              "      <td>-99.192393</td>\n",
              "      <td>2500</td>\n",
              "      <td>19.3587</td>\n",
              "      <td>-99.2033</td>\n",
              "    </tr>\n",
              "    <tr>\n",
              "      <th>4</th>\n",
              "      <td>01000</td>\n",
              "      <td>Store A</td>\n",
              "      <td>01/01/2018</td>\n",
              "      <td>1</td>\n",
              "      <td>2500</td>\n",
              "      <td>0</td>\n",
              "      <td>19.430864</td>\n",
              "      <td>-99.192393</td>\n",
              "      <td>2500</td>\n",
              "      <td>19.3587</td>\n",
              "      <td>-99.2033</td>\n",
              "    </tr>\n",
              "  </tbody>\n",
              "</table>\n",
              "</div>"
            ],
            "text/plain": [
              "     zip location       month  products  ...   longitud   net  lat_use  long_use\n",
              "0  01000  Store A  01/01/2018         1  ... -99.192393  2500  19.3587  -99.2033\n",
              "1  01000  Store A  01/01/2018         1  ... -99.192393  2500  19.3587  -99.2033\n",
              "2  01000  Store A  01/01/2018         1  ... -99.192393  2500  19.3587  -99.2033\n",
              "3  01000  Store A  01/01/2018         1  ... -99.192393  2500  19.3587  -99.2033\n",
              "4  01000  Store A  01/01/2018         1  ... -99.192393  2500  19.3587  -99.2033\n",
              "\n",
              "[5 rows x 11 columns]"
            ]
          },
          "metadata": {
            "tags": []
          },
          "execution_count": 58
        }
      ]
    },
    {
      "cell_type": "code",
      "metadata": {
        "id": "5KodaRL8B-ZV",
        "colab_type": "code",
        "outputId": "4ae70a3a-091a-4f88-f910-f7bf6e4875da",
        "colab": {
          "base_uri": "https://localhost:8080/",
          "height": 288
        }
      },
      "source": [
        "user_zip.describe()"
      ],
      "execution_count": 0,
      "outputs": [
        {
          "output_type": "execute_result",
          "data": {
            "text/html": [
              "<div>\n",
              "<style scoped>\n",
              "    .dataframe tbody tr th:only-of-type {\n",
              "        vertical-align: middle;\n",
              "    }\n",
              "\n",
              "    .dataframe tbody tr th {\n",
              "        vertical-align: top;\n",
              "    }\n",
              "\n",
              "    .dataframe thead th {\n",
              "        text-align: right;\n",
              "    }\n",
              "</style>\n",
              "<table border=\"1\" class=\"dataframe\">\n",
              "  <thead>\n",
              "    <tr style=\"text-align: right;\">\n",
              "      <th></th>\n",
              "      <th>products</th>\n",
              "      <th>total</th>\n",
              "      <th>discount</th>\n",
              "      <th>latitud</th>\n",
              "      <th>longitud</th>\n",
              "      <th>net</th>\n",
              "      <th>lat_use</th>\n",
              "      <th>long_use</th>\n",
              "    </tr>\n",
              "  </thead>\n",
              "  <tbody>\n",
              "    <tr>\n",
              "      <th>count</th>\n",
              "      <td>3.707917e+06</td>\n",
              "      <td>3.707917e+06</td>\n",
              "      <td>3.707917e+06</td>\n",
              "      <td>3.707917e+06</td>\n",
              "      <td>3.707917e+06</td>\n",
              "      <td>3.707917e+06</td>\n",
              "      <td>3.699695e+06</td>\n",
              "      <td>3.699695e+06</td>\n",
              "    </tr>\n",
              "    <tr>\n",
              "      <th>mean</th>\n",
              "      <td>1.108603e+00</td>\n",
              "      <td>2.153354e+03</td>\n",
              "      <td>8.409575e+01</td>\n",
              "      <td>1.943024e+01</td>\n",
              "      <td>-9.919103e+01</td>\n",
              "      <td>2.069259e+03</td>\n",
              "      <td>1.943395e+01</td>\n",
              "      <td>-9.919144e+01</td>\n",
              "    </tr>\n",
              "    <tr>\n",
              "      <th>std</th>\n",
              "      <td>3.672728e-01</td>\n",
              "      <td>9.336499e+02</td>\n",
              "      <td>9.768339e+01</td>\n",
              "      <td>2.544818e-03</td>\n",
              "      <td>5.542100e-03</td>\n",
              "      <td>9.380819e+02</td>\n",
              "      <td>1.146891e-01</td>\n",
              "      <td>2.036328e-01</td>\n",
              "    </tr>\n",
              "    <tr>\n",
              "      <th>min</th>\n",
              "      <td>1.000000e+00</td>\n",
              "      <td>7.000000e+02</td>\n",
              "      <td>0.000000e+00</td>\n",
              "      <td>1.941992e+01</td>\n",
              "      <td>-9.919239e+01</td>\n",
              "      <td>4.000000e+02</td>\n",
              "      <td>1.618620e+01</td>\n",
              "      <td>-1.169963e+02</td>\n",
              "    </tr>\n",
              "    <tr>\n",
              "      <th>25%</th>\n",
              "      <td>1.000000e+00</td>\n",
              "      <td>1.800000e+03</td>\n",
              "      <td>0.000000e+00</td>\n",
              "      <td>1.943086e+01</td>\n",
              "      <td>-9.919239e+01</td>\n",
              "      <td>1.650000e+03</td>\n",
              "      <td>1.943430e+01</td>\n",
              "      <td>-9.919330e+01</td>\n",
              "    </tr>\n",
              "    <tr>\n",
              "      <th>50%</th>\n",
              "      <td>1.000000e+00</td>\n",
              "      <td>1.800000e+03</td>\n",
              "      <td>0.000000e+00</td>\n",
              "      <td>1.943086e+01</td>\n",
              "      <td>-9.919239e+01</td>\n",
              "      <td>1.800000e+03</td>\n",
              "      <td>1.943430e+01</td>\n",
              "      <td>-9.919330e+01</td>\n",
              "    </tr>\n",
              "    <tr>\n",
              "      <th>75%</th>\n",
              "      <td>1.000000e+00</td>\n",
              "      <td>2.300000e+03</td>\n",
              "      <td>1.500000e+02</td>\n",
              "      <td>1.943086e+01</td>\n",
              "      <td>-9.919239e+01</td>\n",
              "      <td>2.200000e+03</td>\n",
              "      <td>1.943430e+01</td>\n",
              "      <td>-9.919330e+01</td>\n",
              "    </tr>\n",
              "    <tr>\n",
              "      <th>max</th>\n",
              "      <td>3.000000e+00</td>\n",
              "      <td>1.000000e+04</td>\n",
              "      <td>3.000000e+02</td>\n",
              "      <td>1.943086e+01</td>\n",
              "      <td>-9.916856e+01</td>\n",
              "      <td>9.700000e+03</td>\n",
              "      <td>3.261690e+01</td>\n",
              "      <td>-8.686099e+01</td>\n",
              "    </tr>\n",
              "  </tbody>\n",
              "</table>\n",
              "</div>"
            ],
            "text/plain": [
              "           products         total  ...       lat_use      long_use\n",
              "count  3.707917e+06  3.707917e+06  ...  3.699695e+06  3.699695e+06\n",
              "mean   1.108603e+00  2.153354e+03  ...  1.943395e+01 -9.919144e+01\n",
              "std    3.672728e-01  9.336499e+02  ...  1.146891e-01  2.036328e-01\n",
              "min    1.000000e+00  7.000000e+02  ...  1.618620e+01 -1.169963e+02\n",
              "25%    1.000000e+00  1.800000e+03  ...  1.943430e+01 -9.919330e+01\n",
              "50%    1.000000e+00  1.800000e+03  ...  1.943430e+01 -9.919330e+01\n",
              "75%    1.000000e+00  2.300000e+03  ...  1.943430e+01 -9.919330e+01\n",
              "max    3.000000e+00  1.000000e+04  ...  3.261690e+01 -8.686099e+01\n",
              "\n",
              "[8 rows x 8 columns]"
            ]
          },
          "metadata": {
            "tags": []
          },
          "execution_count": 67
        }
      ]
    },
    {
      "cell_type": "code",
      "metadata": {
        "id": "gne_DRPzDP-d",
        "colab_type": "code",
        "colab": {
          "base_uri": "https://localhost:8080/",
          "height": 449
        },
        "outputId": "d0e324f6-803a-49cd-8f69-cf9f36ce812a"
      },
      "source": [
        "user_zip.to_csv('df.csv')\n",
        "files.download('df.csv')"
      ],
      "execution_count": 69,
      "outputs": [
        {
          "output_type": "stream",
          "text": [
            "----------------------------------------\n",
            "Exception happened during processing of request from ('::ffff:127.0.0.1', 35328, 0, 0)\n",
            "Traceback (most recent call last):\n",
            "  File \"/usr/lib/python3.6/socketserver.py\", line 320, in _handle_request_noblock\n",
            "    self.process_request(request, client_address)\n",
            "  File \"/usr/lib/python3.6/socketserver.py\", line 351, in process_request\n",
            "    self.finish_request(request, client_address)\n",
            "  File \"/usr/lib/python3.6/socketserver.py\", line 364, in finish_request\n",
            "    self.RequestHandlerClass(request, client_address, self)\n",
            "  File \"/usr/lib/python3.6/socketserver.py\", line 724, in __init__\n",
            "    self.handle()\n",
            "  File \"/usr/lib/python3.6/http/server.py\", line 418, in handle\n",
            "    self.handle_one_request()\n",
            "  File \"/usr/lib/python3.6/http/server.py\", line 406, in handle_one_request\n",
            "    method()\n",
            "  File \"/usr/lib/python3.6/http/server.py\", line 639, in do_GET\n",
            "    self.copyfile(f, self.wfile)\n",
            "  File \"/usr/lib/python3.6/http/server.py\", line 800, in copyfile\n",
            "    shutil.copyfileobj(source, outputfile)\n",
            "  File \"/usr/lib/python3.6/shutil.py\", line 82, in copyfileobj\n",
            "    fdst.write(buf)\n",
            "  File \"/usr/lib/python3.6/socketserver.py\", line 803, in write\n",
            "    self._sock.sendall(b)\n",
            "ConnectionResetError: [Errno 104] Connection reset by peer\n",
            "----------------------------------------\n"
          ],
          "name": "stderr"
        }
      ]
    },
    {
      "cell_type": "code",
      "metadata": {
        "id": "YSP8e76MZpED",
        "colab_type": "code",
        "colab": {}
      },
      "source": [
        ""
      ],
      "execution_count": 0,
      "outputs": []
    }
  ]
}